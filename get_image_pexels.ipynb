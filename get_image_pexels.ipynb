{
  "nbformat": 4,
  "nbformat_minor": 0,
  "metadata": {
    "colab": {
      "name": "Untitled3.ipynb",
      "provenance": []
    },
    "kernelspec": {
      "name": "python3",
      "display_name": "Python 3"
    },
    "language_info": {
      "name": "python"
    }
  },
  "cells": [
    {
      "cell_type": "code",
      "metadata": {
        "colab": {
          "base_uri": "https://localhost:8080/"
        },
        "id": "AIVYVNKv2TEu",
        "outputId": "ed56a923-ca67-49dc-9b0b-f4457926de21"
      },
      "source": [
        "from google.colab import drive\n",
        "drive.mount(\"/content/gdrive\")"
      ],
      "execution_count": 1,
      "outputs": [
        {
          "output_type": "stream",
          "text": [
            "Mounted at /content/gdrive\n"
          ],
          "name": "stdout"
        }
      ]
    },
    {
      "cell_type": "code",
      "metadata": {
        "colab": {
          "base_uri": "https://localhost:8080/"
        },
        "id": "R2VYpXpd2kdv",
        "outputId": "65979e4d-507a-40bc-f925-45d7040b67b3"
      },
      "source": [
        "%cd ./gdrive/MyDrive/포토\\ 뮤직리스트"
      ],
      "execution_count": 2,
      "outputs": [
        {
          "output_type": "stream",
          "text": [
            "/content/gdrive/.shortcut-targets-by-id/1T6KwHlOOnQbDChpjOy87ZzKbT4UWCMjL/포토 뮤직리스트\n"
          ],
          "name": "stdout"
        }
      ]
    },
    {
      "cell_type": "code",
      "metadata": {
        "colab": {
          "base_uri": "https://localhost:8080/"
        },
        "id": "HjCLMDtA34jQ",
        "outputId": "701d2492-8c0b-4bff-c618-afbcfb0cb9aa"
      },
      "source": [
        "!pip install pexelsPy"
      ],
      "execution_count": 4,
      "outputs": [
        {
          "output_type": "stream",
          "text": [
            "Collecting pexelsPy\n",
            "  Downloading https://files.pythonhosted.org/packages/b8/77/25cece86f56b089ef46c35878b3f0c99f457675cef752027e322f2a27feb/pexelsPy-1.0.1-py3-none-any.whl\n",
            "Requirement already satisfied: requests in /usr/local/lib/python3.7/dist-packages (from pexelsPy) (2.23.0)\n",
            "Requirement already satisfied: idna<3,>=2.5 in /usr/local/lib/python3.7/dist-packages (from requests->pexelsPy) (2.10)\n",
            "Requirement already satisfied: certifi>=2017.4.17 in /usr/local/lib/python3.7/dist-packages (from requests->pexelsPy) (2021.5.30)\n",
            "Requirement already satisfied: urllib3!=1.25.0,!=1.25.1,<1.26,>=1.21.1 in /usr/local/lib/python3.7/dist-packages (from requests->pexelsPy) (1.24.3)\n",
            "Requirement already satisfied: chardet<4,>=3.0.2 in /usr/local/lib/python3.7/dist-packages (from requests->pexelsPy) (3.0.4)\n",
            "Installing collected packages: pexelsPy\n",
            "Successfully installed pexelsPy-1.0.1\n"
          ],
          "name": "stdout"
        }
      ]
    },
    {
      "cell_type": "code",
      "metadata": {
        "id": "ze2bXeXr2zQD"
      },
      "source": [
        "import os\n",
        "import requests\n",
        "from skimage import io\n",
        "from PIL import Image\n",
        "from io import BytesIO\n",
        "from matplotlib import pyplot as plt\n",
        "from pexelsPy import API\n"
      ],
      "execution_count": 23,
      "outputs": []
    },
    {
      "cell_type": "code",
      "metadata": {
        "id": "nfqYrrl-3eyH"
      },
      "source": [
        "api = API(\"563492ad6f91700001000001af7da8c7985b4d7a956b7f2efdf0759a\")\n",
        "\n",
        "search_term = ['landscape', 'view', 'scene', 'scenery']\n",
        "\n",
        "i = 1\n",
        "urls = set()\n",
        "for s in search_term:\n",
        "  for p in range(1, 31):\n",
        "    api.search_photos(s, page=p, results_per_page=80)\n",
        "    temp = set([p.original for p in api.get_photos()])\n",
        "    urls = urls.union(temp)\n"
      ],
      "execution_count": 52,
      "outputs": []
    },
    {
      "cell_type": "code",
      "metadata": {
        "colab": {
          "base_uri": "https://localhost:8080/"
        },
        "id": "yC38DAAYFntN",
        "outputId": "5d3918d6-2d85-46cd-b033-91b2dc84e73b"
      },
      "source": [
        "len(urls)"
      ],
      "execution_count": 53,
      "outputs": [
        {
          "output_type": "execute_result",
          "data": {
            "text/plain": [
              "8469"
            ]
          },
          "metadata": {
            "tags": []
          },
          "execution_count": 53
        }
      ]
    },
    {
      "cell_type": "code",
      "metadata": {
        "id": "XirR9cP68yZ0"
      },
      "source": [
        "photos = [Image.open(BytesIO(requests.get(url).content)) for url in urls]\n",
        "for i, photo in photos:\n",
        "  path = './images'\n",
        "  if not os.path.isdir(path):\n",
        "    os.makedirs(path)\n",
        "  photo[1].save(os.path.join(path, f'{i + 1}.jpg'))\n"
      ],
      "execution_count": null,
      "outputs": []
    },
    {
      "cell_type": "code",
      "metadata": {
        "id": "lJ4AxSTRIlGe"
      },
      "source": [
        ""
      ],
      "execution_count": null,
      "outputs": []
    }
  ]
}